{
 "cells": [
  {
   "cell_type": "code",
   "execution_count": 2,
   "metadata": {},
   "outputs": [],
   "source": [
    "import torch"
   ]
  },
  {
   "cell_type": "code",
   "execution_count": 9,
   "metadata": {},
   "outputs": [
    {
     "name": "stdout",
     "output_type": "stream",
     "text": [
      "tensor([[0.0000, 4.5382],\n",
      "        [7.2432, 3.8322],\n",
      "        [4.5579, 0.3791]])\n"
     ]
    }
   ],
   "source": [
    "# Learning pytorch cdist\n",
    "a = torch.tensor([[3, 4], [-0.3108, -2.4423], [-0.4821,  1.059]])\n",
    "b = torch.tensor([[3, 4], [-0.6986,  1.3702]])\n",
    "dists = torch.cdist(a, b, p=2) # p=2 means norm 2, or euclidian distance\n",
    "print(dists)\n",
    "\n",
    "# row i of dists is the distances of element i in a\n",
    "# col j of dists is the distances of element i in a compared to element j of b"
   ]
  },
  {
   "cell_type": "markdown",
   "metadata": {},
   "source": [
    "# Prototypical Network\n",
    "\n",
    "## Sizes in original version:\n",
    "\n",
    "support_features: [25, 512]\n",
    "\n",
    "query_features: [25, 512]\n",
    "\n",
    "prototypes: [5, 512]\n",
    "\n",
    "dists: [50, 5]"
   ]
  },
  {
   "cell_type": "code",
   "execution_count": 31,
   "metadata": {},
   "outputs": [
    {
     "name": "stdout",
     "output_type": "stream",
     "text": [
      "support: tensor([[0.7511, 0.7107, 0.5242, 0.4270, 0.9622, 0.1226, 0.5837, 0.5515, 0.6753,\n",
      "         0.2185],\n",
      "        [0.5593, 0.3586, 0.8593, 0.5987, 0.7437, 0.3188, 0.4466, 0.5877, 0.4988,\n",
      "         0.9259],\n",
      "        [0.1332, 0.8960, 0.2055, 0.8800, 0.7347, 0.6509, 0.8275, 0.7082, 0.2440,\n",
      "         0.2309]])\n",
      "prototypes: tensor([[0.7511, 0.7107, 0.5242, 0.4270, 0.9622, 0.1226, 0.5837, 0.5515, 0.6753,\n",
      "         0.2185],\n",
      "        [0.5593, 0.3586, 0.8593, 0.5987, 0.7437, 0.3188, 0.4466, 0.5877, 0.4988,\n",
      "         0.9259],\n",
      "        [0.1332, 0.8960, 0.2055, 0.8800, 0.7347, 0.6509, 0.8275, 0.7082, 0.2440,\n",
      "         0.2309]])\n",
      "tensor([[1.0895, 1.0045, 1.0592],\n",
      "        [1.0871, 0.8147, 1.7394],\n",
      "        [1.3743, 1.2679, 1.2579],\n",
      "        [1.1231, 1.0116, 1.3322],\n",
      "        [1.2640, 1.1765, 1.3550]])\n",
      "tensor([[-1.0895, -1.0045, -1.0592],\n",
      "        [-1.0871, -0.8147, -1.7394],\n",
      "        [-1.3743, -1.2679, -1.2579],\n",
      "        [-1.1231, -1.0116, -1.3322],\n",
      "        [-1.2640, -1.1765, -1.3550]])\n"
     ]
    }
   ],
   "source": [
    "# Prototypical Network\n",
    "support_features = torch.rand((3,10))\n",
    "query_features = torch.rand((5,10))\n",
    "\n",
    "print(\"support:\", support_features)\n",
    "\n",
    "n_way = 3\n",
    "\n",
    "support_labels = torch.tensor([0,1,2])\n",
    "\n",
    "# Prototype i is the mean of all instances of features corresponding to labels == i\n",
    "prototypes = torch.cat([support_features[torch.nonzero(support_labels==i)].mean(0) \n",
    "                        for i in range(n_way)])\n",
    "\n",
    "print(\"prototypes:\",prototypes)\n",
    "\n",
    "dists = torch.cdist(query_features, prototypes)\n",
    "# print(dists)\n",
    "\n",
    "scores = -dists\n",
    "# print(scores)\n",
    "\n",
    "# scores are negative of dists because the largest (least negative)\n",
    "# score value is the answer, and the smallest distance is the answer"
   ]
  }
 ],
 "metadata": {
  "kernelspec": {
   "display_name": "base",
   "language": "python",
   "name": "python3"
  },
  "language_info": {
   "codemirror_mode": {
    "name": "ipython",
    "version": 3
   },
   "file_extension": ".py",
   "mimetype": "text/x-python",
   "name": "python",
   "nbconvert_exporter": "python",
   "pygments_lexer": "ipython3",
   "version": "3.11.5"
  }
 },
 "nbformat": 4,
 "nbformat_minor": 2
}
