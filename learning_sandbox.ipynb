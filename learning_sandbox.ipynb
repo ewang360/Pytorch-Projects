{
 "cells": [
  {
   "cell_type": "code",
   "execution_count": 1,
   "metadata": {},
   "outputs": [],
   "source": [
    "import torch"
   ]
  },
  {
   "cell_type": "code",
   "execution_count": 9,
   "metadata": {},
   "outputs": [
    {
     "name": "stdout",
     "output_type": "stream",
     "text": [
      "tensor([[0.0000, 4.5382],\n",
      "        [7.2432, 3.8322],\n",
      "        [4.5579, 0.3791]])\n"
     ]
    }
   ],
   "source": [
    "# Learning pytorch cdist\n",
    "a = torch.tensor([[3, 4], [-0.3108, -2.4423], [-0.4821,  1.059]])\n",
    "b = torch.tensor([[3, 4], [-0.6986,  1.3702]])\n",
    "dists = torch.cdist(a, b, p=2) # p=2 means norm 2, or euclidian distance\n",
    "print(dists)\n",
    "\n",
    "# row i of dists is the distances of element i in a\n",
    "# col j of dists is the distances of element i in a compared to element j of b"
   ]
  },
  {
   "cell_type": "code",
   "execution_count": null,
   "metadata": {},
   "outputs": [],
   "source": []
  }
 ],
 "metadata": {
  "kernelspec": {
   "display_name": "base",
   "language": "python",
   "name": "python3"
  },
  "language_info": {
   "codemirror_mode": {
    "name": "ipython",
    "version": 3
   },
   "file_extension": ".py",
   "mimetype": "text/x-python",
   "name": "python",
   "nbconvert_exporter": "python",
   "pygments_lexer": "ipython3",
   "version": "3.11.5"
  }
 },
 "nbformat": 4,
 "nbformat_minor": 2
}
